{
 "cells": [
  {
   "cell_type": "markdown",
   "source": [
    "#2.2.1 Create Tensor"
   ],
   "metadata": {
    "collapsed": false,
    "pycharm": {
     "name": "#%% md\n"
    }
   }
  },
  {
   "cell_type": "code",
   "execution_count": 20,
   "metadata": {
    "collapsed": true,
    "pycharm": {
     "is_executing": false
    }
   },
   "outputs": [],
   "source": [
    "import  torch "
   ]
  },
  {
   "cell_type": "code",
   "execution_count": 21,
   "outputs": [
    {
     "name": "stdout",
     "text": [
      "tensor([[ 0.0000e+00, -1.0842e-19,  0.0000e+00],\n",
      "        [-1.0842e-19,  1.1210e-44,  0.0000e+00],\n",
      "        [ 0.0000e+00,  0.0000e+00,  0.0000e+00],\n",
      "        [ 0.0000e+00,  0.0000e+00,  0.0000e+00],\n",
      "        [ 0.0000e+00,  0.0000e+00,  0.0000e+00]])\n"
     ],
     "output_type": "stream"
    }
   ],
   "source": [
    "#uninitialized\n",
    "x = torch.empty(5,3)\n",
    "print(x)"
   ],
   "metadata": {
    "collapsed": false,
    "pycharm": {
     "name": "#%%\n",
     "is_executing": false
    }
   }
  },
  {
   "cell_type": "code",
   "execution_count": 22,
   "outputs": [
    {
     "name": "stdout",
     "text": [
      "tensor([[0.6335, 0.8927, 0.8496],\n",
      "        [0.6413, 0.3568, 0.1992],\n",
      "        [0.8383, 0.5881, 0.2350],\n",
      "        [0.9430, 0.2341, 0.9586],\n",
      "        [0.9649, 0.4589, 0.9863]])\n"
     ],
     "output_type": "stream"
    }
   ],
   "source": [
    "#random initialized\n",
    "x = torch.rand(5, 3)\n",
    "print(x)\n",
    "\n"
   ],
   "metadata": {
    "collapsed": false,
    "pycharm": {
     "name": "#%%\n",
     "is_executing": false
    }
   }
  },
  {
   "cell_type": "code",
   "execution_count": 23,
   "outputs": [
    {
     "name": "stdout",
     "text": [
      "tensor([[0, 0, 0],\n",
      "        [0, 0, 0],\n",
      "        [0, 0, 0],\n",
      "        [0, 0, 0],\n",
      "        [0, 0, 0]])\n"
     ],
     "output_type": "stream"
    }
   ],
   "source": [
    "#type long \n",
    "x = torch.zeros(5, 3, dtype=torch.long)\n",
    "print(x)\n"
   ],
   "metadata": {
    "collapsed": false,
    "pycharm": {
     "name": "#%%\n",
     "is_executing": false
    }
   }
  },
  {
   "cell_type": "code",
   "execution_count": 24,
   "outputs": [
    {
     "name": "stdout",
     "text": [
      "tensor([5.5000, 3.0000])\n"
     ],
     "output_type": "stream"
    }
   ],
   "source": [
    "#based on known stats\n",
    "x = torch.tensor([5.5, 3])\n",
    "print(x)\n",
    "\n"
   ],
   "metadata": {
    "collapsed": false,
    "pycharm": {
     "name": "#%%\n",
     "is_executing": false
    }
   }
  },
  {
   "cell_type": "code",
   "execution_count": 25,
   "outputs": [
    {
     "name": "stdout",
     "text": [
      "tensor([[1., 1., 1.],\n",
      "        [1., 1., 1.],\n",
      "        [1., 1., 1.],\n",
      "        [1., 1., 1.],\n",
      "        [1., 1., 1.]], dtype=torch.float64)\n"
     ],
     "output_type": "stream"
    }
   ],
   "source": [
    "x = x.new_ones(5, 3, dtype=torch.float64)  # 返回的tensor默认具有相同的torch.dtype和torch.device\n",
    "print(x)\n"
   ],
   "metadata": {
    "collapsed": false,
    "pycharm": {
     "name": "#%%\n",
     "is_executing": false
    }
   }
  },
  {
   "cell_type": "code",
   "execution_count": 26,
   "outputs": [
    {
     "name": "stdout",
     "text": [
      "tensor([[ 1.2552, -0.2663,  0.7769],\n",
      "        [ 0.4601,  0.2219, -0.2804],\n",
      "        [-0.5090, -1.1677,  2.6626],\n",
      "        [-0.7254,  1.3020, -1.3172],\n",
      "        [ 0.8947,  0.8327, -0.4474]])\n"
     ],
     "output_type": "stream"
    }
   ],
   "source": [
    "x = torch.randn_like(x, dtype=torch.float) # 指定新的数据类型\n",
    "print(x) "
   ],
   "metadata": {
    "collapsed": false,
    "pycharm": {
     "name": "#%%\n",
     "is_executing": false
    }
   }
  },
  {
   "cell_type": "code",
   "execution_count": 27,
   "outputs": [
    {
     "name": "stdout",
     "text": [
      "torch.Size([5, 3])\n",
      "torch.Size([5, 3])\n"
     ],
     "output_type": "stream"
    }
   ],
   "source": [
    "#use shape/size to get shape of tensor\n",
    "print(x.size())\n",
    "print(x.shape)\n",
    "#this returns a tuple"
   ],
   "metadata": {
    "collapsed": false,
    "pycharm": {
     "name": "#%%\n",
     "is_executing": false
    }
   }
  },
  {
   "cell_type": "markdown",
   "source": [
    "函数\t功能\n",
    "Tensor(*sizes)\t基础构造函数\n",
    "tensor(data,)\t类似np.array的构造函数\n",
    "ones(*sizes)\t全1Tensor\n",
    "zeros(*sizes)\t全0Tensor\n",
    "eye(*sizes)\t对角线为1，其他为0\n",
    "arange(s,e,step)\t从s到e，步长为step\n",
    "linspace(s,e,steps)\t从s到e，均匀切分成steps份\n",
    "rand/randn(*sizes)\t均匀/标准分布\n",
    "normal(mean,std)/uniform(from,to)\t正态分布/均匀分布\n",
    "randperm(m)\t随机排列\n"
   ],
   "metadata": {
    "collapsed": false,
    "pycharm": {
     "name": "#%% md\n"
    }
   }
  },
  {
   "cell_type": "markdown",
   "source": [
    "# 2.2.2 tensor Operation\n"
   ],
   "metadata": {
    "collapsed": false,
    "pycharm": {
     "name": "#%% md\n"
    }
   }
  },
  {
   "cell_type": "code",
   "source": [
    "print(x)\n",
    "y = torch.rand(5, 3)\n",
    "print(y)"
   ],
   "metadata": {
    "collapsed": false,
    "pycharm": {
     "name": "#%% \n",
     "is_executing": false
    }
   },
   "execution_count": 40,
   "outputs": [
    {
     "name": "stdout",
     "text": [
      "tensor([[ 2.2552,  1.4601,  0.4910,  0.2746,  1.8947],\n",
      "        [-0.2663,  0.2219, -1.1677,  1.3020,  0.8327],\n",
      "        [ 0.7769, -0.2804,  2.6626, -1.3172, -0.4474]])\n",
      "tensor([[0.8043, 0.4721, 0.7702],\n",
      "        [0.6755, 0.4245, 0.5338],\n",
      "        [0.2113, 0.2923, 0.0447],\n",
      "        [0.1040, 0.3885, 0.8120],\n",
      "        [0.3763, 0.3215, 0.0043]])\n"
     ],
     "output_type": "stream"
    }
   ]
  },
  {
   "cell_type": "code",
   "execution_count": 30,
   "outputs": [
    {
     "name": "stdout",
     "text": [
      "tensor([[ 1.2901, -0.1075,  1.0235],\n",
      "        [ 0.5705,  0.9630, -0.1095],\n",
      "        [-0.3441, -0.2934,  3.0290],\n",
      "        [-0.2648,  1.8446, -0.9905],\n",
      "        [ 1.1613,  1.0831,  0.5209]])\n"
     ],
     "output_type": "stream"
    }
   ],
   "source": [
    "#Format 1 \n",
    "print(x+y)"
   ],
   "metadata": {
    "collapsed": false,
    "pycharm": {
     "name": "#%%\n",
     "is_executing": false
    }
   }
  },
  {
   "cell_type": "code",
   "execution_count": 31,
   "outputs": [
    {
     "name": "stdout",
     "text": [
      "tensor([[ 1.2901, -0.1075,  1.0235],\n",
      "        [ 0.5705,  0.9630, -0.1095],\n",
      "        [-0.3441, -0.2934,  3.0290],\n",
      "        [-0.2648,  1.8446, -0.9905],\n",
      "        [ 1.1613,  1.0831,  0.5209]])\n"
     ],
     "output_type": "stream"
    }
   ],
   "source": [
    "\n",
    "#Format 2\n",
    "print(torch.add(x, y))"
   ],
   "metadata": {
    "collapsed": false,
    "pycharm": {
     "name": "#%%\n",
     "is_executing": false
    }
   }
  },
  {
   "cell_type": "code",
   "execution_count": 32,
   "outputs": [
    {
     "name": "stdout",
     "text": [
      "tensor([[ 1.2901, -0.1075,  1.0235],\n",
      "        [ 0.5705,  0.9630, -0.1095],\n",
      "        [-0.3441, -0.2934,  3.0290],\n",
      "        [-0.2648,  1.8446, -0.9905],\n",
      "        [ 1.1613,  1.0831,  0.5209]])\n"
     ],
     "output_type": "stream"
    }
   ],
   "source": [
    "#Assign variable result \n",
    "result = torch.empty(5, 3)\n",
    "torch.add(x, y, out=result)\n",
    "print(result)"
   ],
   "metadata": {
    "collapsed": false,
    "pycharm": {
     "name": "#%%\n",
     "is_executing": false
    }
   }
  },
  {
   "cell_type": "code",
   "execution_count": 33,
   "outputs": [
    {
     "name": "stdout",
     "text": [
      "tensor([[ 1.2901, -0.1075,  1.0235],\n",
      "        [ 0.5705,  0.9630, -0.1095],\n",
      "        [-0.3441, -0.2934,  3.0290],\n",
      "        [-0.2648,  1.8446, -0.9905],\n",
      "        [ 1.1613,  1.0831,  0.5209]])\n"
     ],
     "output_type": "stream"
    }
   ],
   "source": [
    "#Format 3 Inplace\n",
    "y.add_(x)\n",
    "print(y)\n",
    "#careful _\n"
   ],
   "metadata": {
    "collapsed": false,
    "pycharm": {
     "name": "#%%\n",
     "is_executing": false
    }
   }
  },
  {
   "cell_type": "code",
   "execution_count": 34,
   "outputs": [
    {
     "name": "stdout",
     "text": [
      "tensor([[ 1.2552, -0.2663,  0.7769],\n",
      "        [ 0.4601,  0.2219, -0.2804],\n",
      "        [-0.5090, -1.1677,  2.6626],\n",
      "        [-0.7254,  1.3020, -1.3172],\n",
      "        [ 0.8947,  0.8327, -0.4474]])\n"
     ],
     "output_type": "stream"
    }
   ],
   "source": [
    "#Copy\n",
    "z = torch.empty(5,3)\n",
    "z.copy_(x)\n",
    "print(z)"
   ],
   "metadata": {
    "collapsed": false,
    "pycharm": {
     "name": "#%%\n",
     "is_executing": false
    }
   }
  },
  {
   "cell_type": "code",
   "execution_count": 35,
   "outputs": [
    {
     "name": "stdout",
     "text": [
      "tensor([[ 1.2552,  0.4601, -0.5090, -0.7254,  0.8947],\n",
      "        [-0.2663,  0.2219, -1.1677,  1.3020,  0.8327],\n",
      "        [ 0.7769, -0.2804,  2.6626, -1.3172, -0.4474]])\n"
     ],
     "output_type": "stream"
    }
   ],
   "source": [
    "#t_\n",
    "x.t_()\n",
    "print(x)"
   ],
   "metadata": {
    "collapsed": false,
    "pycharm": {
     "name": "#%%\n",
     "is_executing": false
    }
   }
  },
  {
   "cell_type": "markdown",
   "source": [
    "### Reference\n",
    "y and x share RAM \n",
    "If one changes, the other changes"
   ],
   "metadata": {
    "collapsed": false,
    "pycharm": {
     "name": "#%% md\n",
     "is_executing": false
    }
   }
  },
  {
   "cell_type": "code",
   "execution_count": 36,
   "outputs": [
    {
     "name": "stdout",
     "text": [
      "tensor([2.2552, 1.4601, 0.4910, 0.2746, 1.8947])\n",
      "tensor([2.2552, 1.4601, 0.4910, 0.2746, 1.8947])\n"
     ],
     "output_type": "stream"
    }
   ],
   "source": [
    "y = x[0, :]\n",
    "y += 1\n",
    "print(y)\n",
    "print(x[0, :]) # 源tensor也被改了\n"
   ],
   "metadata": {
    "collapsed": false,
    "pycharm": {
     "name": "#%%\n",
     "is_executing": false
    }
   }
  },
  {
   "cell_type": "markdown",
   "source": [
    "函数\t功能\n",
    "index_select(input, dim, index)\t在指定维度dim上选取，比如选取某些行、某些列\n",
    "masked_select(input, mask)\t例子如上，a[a>0]，使用ByteTensor进行选取\n",
    "nonzero(input)\t非0元素的下标\n",
    "gather(input, dim, index)\t根据index，在dim维度上选取数据，输出的size与index一样\n",
    "\n"
   ],
   "metadata": {
    "collapsed": false,
    "pycharm": {
     "name": "#%% md\n"
    }
   }
  },
  {
   "cell_type": "markdown",
   "source": [
    "### change shape "
   ],
   "metadata": {
    "collapsed": false,
    "pycharm": {
     "name": "#%% md\n"
    }
   }
  },
  {
   "cell_type": "code",
   "execution_count": 48,
   "outputs": [
    {
     "data": {
      "text/plain": "tensor([[ 2.2552, -0.2663,  0.7769],\n        [ 1.4601,  0.2219, -0.2804],\n        [ 0.4910, -1.1677,  2.6626],\n        [ 0.2746,  1.3020, -1.3172],\n        [ 1.8947,  0.8327, -0.4474]])"
     },
     "metadata": {},
     "output_type": "execute_result",
     "execution_count": 48
    }
   ],
   "source": [
    "#transpose back x\n",
    "x.t_()"
   ],
   "metadata": {
    "collapsed": false,
    "pycharm": {
     "name": "#%%\n",
     "is_executing": false
    }
   }
  },
  {
   "cell_type": "code",
   "execution_count": 49,
   "outputs": [
    {
     "name": "stdout",
     "text": [
      "torch.Size([5, 3]) torch.Size([15]) torch.Size([3, 5])\n"
     ],
     "output_type": "stream"
    }
   ],
   "source": [
    "# view ()\n",
    "y = x.view(15)\n",
    "z = x.view(-1, 5)  # -1所指的维度可以根据其他维度的值推出来\n",
    "print(x.size(), y.size(), z.size())"
   ],
   "metadata": {
    "collapsed": false,
    "pycharm": {
     "name": "#%%\n",
     "is_executing": false
    }
   }
  },
  {
   "cell_type": "markdown",
   "source": [
    "注意view()返回的新Tensor与源Tensor虽然可能有不同的size，\n",
    "但是是共享data的，也即更改其中的一个，\n",
    "另外一个也会跟着改变。(顾名思义，view仅仅是改变了对这个张量的观察角度，内部数据并未改变)"
   ],
   "metadata": {
    "collapsed": false,
    "pycharm": {
     "name": "#%% md\n"
    }
   }
  },
  {
   "cell_type": "code",
   "execution_count": 51,
   "outputs": [
    {
     "name": "stdout",
     "text": [
      "tensor([[ 2.2552, -0.2663,  0.7769],\n",
      "        [ 1.4601,  0.2219, -0.2804],\n",
      "        [ 0.4910, -1.1677,  2.6626],\n",
      "        [ 0.2746,  1.3020, -1.3172],\n",
      "        [ 1.8947,  0.8327, -0.4474]])\n",
      "tensor([ 2.2552, -0.2663,  0.7769,  1.4601,  0.2219, -0.2804,  0.4910, -1.1677,\n",
      "         2.6626,  0.2746,  1.3020, -1.3172,  1.8947,  0.8327, -0.4474])\n",
      "tensor([[ 2.2552, -0.2663,  0.7769,  1.4601,  0.2219],\n",
      "        [-0.2804,  0.4910, -1.1677,  2.6626,  0.2746],\n",
      "        [ 1.3020, -1.3172,  1.8947,  0.8327, -0.4474]])\n"
     ],
     "output_type": "stream"
    }
   ],
   "source": [
    "print(x)\n",
    "print(y) \n",
    "print(z)"
   ],
   "metadata": {
    "collapsed": false,
    "pycharm": {
     "name": "#%%\n",
     "is_executing": false
    }
   }
  },
  {
   "cell_type": "code",
   "execution_count": 52,
   "outputs": [
    {
     "name": "stdout",
     "text": [
      "tensor([[ 3.2552,  0.7337,  1.7769],\n",
      "        [ 2.4601,  1.2219,  0.7196],\n",
      "        [ 1.4910, -0.1677,  3.6626],\n",
      "        [ 1.2746,  2.3020, -0.3172],\n",
      "        [ 2.8947,  1.8327,  0.5526]])\n",
      "tensor([ 3.2552,  0.7337,  1.7769,  2.4601,  1.2219,  0.7196,  1.4910, -0.1677,\n",
      "         3.6626,  1.2746,  2.3020, -0.3172,  2.8947,  1.8327,  0.5526])\n",
      "tensor([[ 3.2552,  0.7337,  1.7769,  2.4601,  1.2219],\n",
      "        [ 0.7196,  1.4910, -0.1677,  3.6626,  1.2746],\n",
      "        [ 2.3020, -0.3172,  2.8947,  1.8327,  0.5526]])\n"
     ],
     "output_type": "stream"
    }
   ],
   "source": [
    "x+=1\n",
    "print(x)\n",
    "print(y) \n",
    "print(z)# 也加了1"
   ],
   "metadata": {
    "collapsed": false,
    "pycharm": {
     "name": "#%%\n",
     "is_executing": false
    }
   }
  },
  {
   "cell_type": "markdown",
   "source": [
    "所以如果我们想返回一个真正新的副本（即不共享data内存）该怎么办呢？\n",
    "Pytorch还提供了一个reshape()可以改变形状，\n",
    "但是此函数并不能保证返回的是其拷贝，所以不推荐使用。\n",
    "推荐先用clone创造一个副本然后再使用view。"
   ],
   "metadata": {
    "collapsed": false,
    "pycharm": {
     "name": "#%% md\n"
    }
   }
  },
  {
   "cell_type": "code",
   "execution_count": 53,
   "outputs": [
    {
     "name": "stdout",
     "text": [
      "tensor([[ 2.2552, -0.2663,  0.7769],\n",
      "        [ 1.4601,  0.2219, -0.2804],\n",
      "        [ 0.4910, -1.1677,  2.6626],\n",
      "        [ 0.2746,  1.3020, -1.3172],\n",
      "        [ 1.8947,  0.8327, -0.4474]])\n",
      "tensor([ 3.2552,  0.7337,  1.7769,  2.4601,  1.2219,  0.7196,  1.4910, -0.1677,\n",
      "         3.6626,  1.2746,  2.3020, -0.3172,  2.8947,  1.8327,  0.5526])\n"
     ],
     "output_type": "stream"
    }
   ],
   "source": [
    "#clone \n",
    "x_cp = x.clone().view(15)\n",
    "x -= 1\n",
    "print(x)\n",
    "print(x_cp)"
   ],
   "metadata": {
    "collapsed": false,
    "pycharm": {
     "name": "#%%\n",
     "is_executing": false
    }
   }
  },
  {
   "cell_type": "code",
   "execution_count": 54,
   "outputs": [
    {
     "name": "stdout",
     "text": [
      "tensor([0.0536])\n",
      "0.053582195192575455\n"
     ],
     "output_type": "stream"
    }
   ],
   "source": [
    "#item()\n",
    "# 它可以将一个标量Tensor转换成一个Python number：\n",
    "x = torch.randn(1)\n",
    "print(x)\n",
    "print(x.item())"
   ],
   "metadata": {
    "collapsed": false,
    "pycharm": {
     "name": "#%%\n",
     "is_executing": false
    }
   }
  },
  {
   "cell_type": "markdown",
   "source": [
    "trace\t对角线元素之和(矩阵的迹)\n",
    "diag\t对角线元素\n",
    "triu/tril\t矩阵的上三角/下三角，可指定偏移量\n",
    "mm/bmm\t矩阵乘法，batch的矩阵乘法\n",
    "addmm/addbmm/addmv/addr/baddbmm..\t矩阵运算\n",
    "t\t转置\n",
    "dot/cross\t内积/外积\n",
    "inverse\t求逆矩阵\n",
    "svd\t奇异值分解\n",
    "PyTorch中的Tensor支持超过一百种操作，包括转置、索引、切片、\n",
    "数学运算、线性代数、随机数等等，可参考官方文档。\n",
    "\n",
    "\n"
   ],
   "metadata": {
    "collapsed": false,
    "pycharm": {
     "name": "#%% md\n"
    }
   }
  },
  {
   "cell_type": "code",
   "execution_count": null,
   "outputs": [],
   "source": [
    "\n"
   ],
   "metadata": {
    "collapsed": false,
    "pycharm": {
     "name": "#%%\n"
    }
   }
  }
 ],
 "metadata": {
  "kernelspec": {
   "display_name": "Python 3",
   "language": "python",
   "name": "python3"
  },
  "language_info": {
   "codemirror_mode": {
    "name": "ipython",
    "version": 2
   },
   "file_extension": ".py",
   "mimetype": "text/x-python",
   "name": "python",
   "nbconvert_exporter": "python",
   "pygments_lexer": "ipython2",
   "version": "2.7.6"
  },
  "pycharm": {
   "stem_cell": {
    "cell_type": "raw",
    "source": [],
    "metadata": {
     "collapsed": false
    }
   }
  }
 },
 "nbformat": 4,
 "nbformat_minor": 0
}