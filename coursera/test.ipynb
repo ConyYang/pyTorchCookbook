{
 "cells": [
  {
   "cell_type": "code",
   "execution_count": 2,
   "metadata": {
    "collapsed": true,
    "pycharm": {
     "is_executing": false
    }
   },
   "outputs": [],
   "source": [
    "import torch\n",
    "x = torch.arange(-3, 3, 0.5)"
   ]
  },
  {
   "cell_type": "code",
   "execution_count": 4,
   "metadata": {
    "pycharm": {
     "is_executing": false,
     "name": "#%%\n"
    }
   },
   "outputs": [
    {
     "data": {
      "text/plain": [
       "tensor([-3.0000, -2.5000, -2.0000, -1.5000, -1.0000, -0.5000,  0.0000,  0.5000,\n",
       "         1.0000,  1.5000,  2.0000,  2.5000])"
      ]
     },
     "execution_count": 4,
     "metadata": {},
     "output_type": "execute_result"
    }
   ],
   "source": [
    "x\n",
    "\n"
   ]
  },
  {
   "cell_type": "code",
   "execution_count": 5,
   "metadata": {
    "pycharm": {
     "is_executing": false,
     "name": "#%%\n"
    }
   },
   "outputs": [
    {
     "data": {
      "text/plain": [
       "tensor([[-3.0000],\n",
       "        [-2.5000],\n",
       "        [-2.0000],\n",
       "        [-1.5000],\n",
       "        [-1.0000],\n",
       "        [-0.5000],\n",
       "        [ 0.0000],\n",
       "        [ 0.5000],\n",
       "        [ 1.0000],\n",
       "        [ 1.5000],\n",
       "        [ 2.0000],\n",
       "        [ 2.5000]])"
      ]
     },
     "execution_count": 5,
     "metadata": {},
     "output_type": "execute_result"
    }
   ],
   "source": [
    "x.view(-1,1)"
   ]
  },
  {
   "cell_type": "code",
   "execution_count": 6,
   "metadata": {
    "pycharm": {
     "is_executing": false,
     "name": "#%%\n"
    }
   },
   "outputs": [],
   "source": [
    "f = -3 * x\n",
    "\n"
   ]
  },
  {
   "cell_type": "code",
   "execution_count": 7,
   "metadata": {
    "pycharm": {
     "is_executing": false,
     "name": "#%%\n"
    }
   },
   "outputs": [],
   "source": [
    "y = f + 0.1 * torch.rand(x.size())\n"
   ]
  },
  {
   "cell_type": "code",
   "execution_count": 11,
   "metadata": {
    "pycharm": {
     "is_executing": false,
     "name": "#%%\n"
    }
   },
   "outputs": [
    {
     "data": {
      "text/plain": [
       "tensor([[0., 0.],\n",
       "        [0., 0.],\n",
       "        [0., 0.],\n",
       "        [0., 0.],\n",
       "        [0., 0.],\n",
       "        [0., 0.],\n",
       "        [0., 0.],\n",
       "        [0., 0.],\n",
       "        [0., 0.],\n",
       "        [0., 0.],\n",
       "        [0., 0.],\n",
       "        [0., 0.],\n",
       "        [0., 0.],\n",
       "        [0., 0.],\n",
       "        [0., 0.],\n",
       "        [0., 0.],\n",
       "        [0., 0.],\n",
       "        [0., 0.],\n",
       "        [0., 0.],\n",
       "        [0., 0.]])"
      ]
     },
     "execution_count": 11,
     "metadata": {},
     "output_type": "execute_result"
    }
   ],
   "source": [
    "x = torch.zeros(20,2)\n",
    "x"
   ]
  },
  {
   "cell_type": "code",
   "execution_count": 12,
   "metadata": {
    "pycharm": {
     "is_executing": false,
     "name": "#%%\n"
    }
   },
   "outputs": [
    {
     "data": {
      "text/plain": [
       "tensor([[-1.0000,  0.0000],\n",
       "        [-0.9000,  0.0000],\n",
       "        [-0.8000,  0.0000],\n",
       "        [-0.7000,  0.0000],\n",
       "        [-0.6000,  0.0000],\n",
       "        [-0.5000,  0.0000],\n",
       "        [-0.4000,  0.0000],\n",
       "        [-0.3000,  0.0000],\n",
       "        [-0.2000,  0.0000],\n",
       "        [-0.1000,  0.0000],\n",
       "        [ 0.0000,  0.0000],\n",
       "        [ 0.1000,  0.0000],\n",
       "        [ 0.2000,  0.0000],\n",
       "        [ 0.3000,  0.0000],\n",
       "        [ 0.4000,  0.0000],\n",
       "        [ 0.5000,  0.0000],\n",
       "        [ 0.6000,  0.0000],\n",
       "        [ 0.7000,  0.0000],\n",
       "        [ 0.8000,  0.0000],\n",
       "        [ 0.9000,  0.0000]])"
      ]
     },
     "execution_count": 12,
     "metadata": {},
     "output_type": "execute_result"
    }
   ],
   "source": [
    "x[:,0] = torch.arange(-1, 1, 0.1)\n",
    "x"
   ]
  },
  {
   "cell_type": "code",
   "execution_count": 13,
   "metadata": {
    "pycharm": {
     "is_executing": false,
     "name": "#%%\n"
    }
   },
   "outputs": [
    {
     "data": {
      "text/plain": [
       "tensor([[-1.0000, -1.0000],\n",
       "        [-0.9000, -0.9000],\n",
       "        [-0.8000, -0.8000],\n",
       "        [-0.7000, -0.7000],\n",
       "        [-0.6000, -0.6000],\n",
       "        [-0.5000, -0.5000],\n",
       "        [-0.4000, -0.4000],\n",
       "        [-0.3000, -0.3000],\n",
       "        [-0.2000, -0.2000],\n",
       "        [-0.1000, -0.1000],\n",
       "        [ 0.0000,  0.0000],\n",
       "        [ 0.1000,  0.1000],\n",
       "        [ 0.2000,  0.2000],\n",
       "        [ 0.3000,  0.3000],\n",
       "        [ 0.4000,  0.4000],\n",
       "        [ 0.5000,  0.5000],\n",
       "        [ 0.6000,  0.6000],\n",
       "        [ 0.7000,  0.7000],\n",
       "        [ 0.8000,  0.8000],\n",
       "        [ 0.9000,  0.9000]])"
      ]
     },
     "execution_count": 13,
     "metadata": {},
     "output_type": "execute_result"
    }
   ],
   "source": [
    "x[:,1] = torch.arange(-1, 1, 0.1)\n",
    "x\n"
   ]
  },
  {
   "cell_type": "code",
   "execution_count": 15,
   "metadata": {
    "pycharm": {
     "is_executing": false,
     "name": "#%%\n"
    }
   },
   "outputs": [
    {
     "data": {
      "text/plain": [
       "tensor([[1.],\n",
       "        [1.]])"
      ]
     },
     "execution_count": 15,
     "metadata": {},
     "output_type": "execute_result"
    }
   ],
   "source": [
    "w = torch.tensor([[1.0], [1.0]])\n",
    "w"
   ]
  },
  {
   "cell_type": "code",
   "execution_count": 16,
   "metadata": {
    "pycharm": {
     "is_executing": false,
     "name": "#%%\n"
    }
   },
   "outputs": [],
   "source": [
    "b =1"
   ]
  },
  {
   "cell_type": "code",
   "execution_count": 18,
   "metadata": {
    "pycharm": {
     "is_executing": false,
     "name": "#%%\n"
    }
   },
   "outputs": [
    {
     "data": {
      "text/plain": [
       "tensor([[-1.0000],\n",
       "        [-0.8000],\n",
       "        [-0.6000],\n",
       "        [-0.4000],\n",
       "        [-0.2000],\n",
       "        [ 0.0000],\n",
       "        [ 0.2000],\n",
       "        [ 0.4000],\n",
       "        [ 0.6000],\n",
       "        [ 0.8000],\n",
       "        [ 1.0000],\n",
       "        [ 1.2000],\n",
       "        [ 1.4000],\n",
       "        [ 1.6000],\n",
       "        [ 1.8000],\n",
       "        [ 2.0000],\n",
       "        [ 2.2000],\n",
       "        [ 2.4000],\n",
       "        [ 2.6000],\n",
       "        [ 2.8000]])"
      ]
     },
     "execution_count": 18,
     "metadata": {},
     "output_type": "execute_result"
    }
   ],
   "source": [
    "f = torch.mm(x, w)+b\n",
    "f"
   ]
  },
  {
   "cell_type": "code",
   "execution_count": 20,
   "metadata": {
    "pycharm": {
     "is_executing": false,
     "name": "#%%\n"
    }
   },
   "outputs": [
    {
     "data": {
      "text/plain": [
       "2"
      ]
     },
     "execution_count": 20,
     "metadata": {},
     "output_type": "execute_result"
    }
   ],
   "source": []
  },
  {
   "cell_type": "code",
   "execution_count": 22,
   "metadata": {
    "pycharm": {
     "is_executing": false,
     "name": "#%%\n"
    }
   },
   "outputs": [
    {
     "data": {
      "text/plain": [
       "tensor([[-1.6978],\n",
       "        [ 0.6629],\n",
       "        [ 0.0533],\n",
       "        [-0.1241],\n",
       "        [-0.9001],\n",
       "        [ 0.8516],\n",
       "        [ 0.8039],\n",
       "        [-0.9310],\n",
       "        [-0.6070],\n",
       "        [-0.8744],\n",
       "        [-0.6867],\n",
       "        [ 0.0243],\n",
       "        [-2.4072],\n",
       "        [-0.4559],\n",
       "        [ 0.4678],\n",
       "        [-0.1551],\n",
       "        [-0.4820],\n",
       "        [-1.0417],\n",
       "        [-0.2294],\n",
       "        [-1.9667]])"
      ]
     },
     "execution_count": 22,
     "metadata": {},
     "output_type": "execute_result"
    }
   ],
   "source": [
    "noise = torch.randn((x.shape[0] , 1))\n",
    "noise"
   ]
  },
  {
   "cell_type": "code",
   "execution_count": 24,
   "metadata": {
    "pycharm": {
     "is_executing": false,
     "name": "#%%\n"
    }
   },
   "outputs": [
    {
     "data": {
      "text/plain": [
       "tensor([[-1.1698],\n",
       "        [-0.7337],\n",
       "        [-0.5947],\n",
       "        [-0.4124],\n",
       "        [-0.2900],\n",
       "        [ 0.0852],\n",
       "        [ 0.2804],\n",
       "        [ 0.3069],\n",
       "        [ 0.5393],\n",
       "        [ 0.7126],\n",
       "        [ 0.9313],\n",
       "        [ 1.2024],\n",
       "        [ 1.1593],\n",
       "        [ 1.5544],\n",
       "        [ 1.8468],\n",
       "        [ 1.9845],\n",
       "        [ 2.1518],\n",
       "        [ 2.2958],\n",
       "        [ 2.5771],\n",
       "        [ 2.6033]])"
      ]
     },
     "execution_count": 24,
     "metadata": {},
     "output_type": "execute_result"
    }
   ],
   "source": [
    "y = f + 0.1*noise\n",
    "y"
   ]
  },
  {
   "cell_type": "code",
   "execution_count": 6,
   "metadata": {
    "pycharm": {
     "is_executing": false,
     "name": "#%%\n"
    }
   },
   "outputs": [
    {
     "name": "stdout",
     "output_type": "stream",
     "text": [
      "tensor([0.6147, 0.3810])\n",
      "tensor([0.6371, 0.4745])\n"
     ]
    }
   ],
   "source": [
    "import torch\n",
    "\n",
    "torch.manual_seed(2)\n",
    "print(torch.rand(2))\n",
    "print(torch.rand(2))"
   ]
  },
  {
   "cell_type": "code",
   "execution_count": null,
   "metadata": {
    "pycharm": {
     "name": "#%%\n"
    }
   },
   "outputs": [],
   "source": []
  },
  {
   "cell_type": "code",
   "execution_count": null,
   "metadata": {},
   "outputs": [],
   "source": []
  }
 ],
 "metadata": {
  "kernelspec": {
   "display_name": "Python 3",
   "language": "python",
   "name": "python3"
  },
  "language_info": {
   "codemirror_mode": {
    "name": "ipython",
    "version": 3
   },
   "file_extension": ".py",
   "mimetype": "text/x-python",
   "name": "python",
   "nbconvert_exporter": "python",
   "pygments_lexer": "ipython3",
   "version": "3.7.6"
  },
  "pycharm": {
   "stem_cell": {
    "cell_type": "raw",
    "metadata": {
     "collapsed": false
    },
    "source": []
   }
  }
 },
 "nbformat": 4,
 "nbformat_minor": 1
}
