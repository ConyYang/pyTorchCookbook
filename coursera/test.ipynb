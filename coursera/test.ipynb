{
 "cells": [
  {
   "cell_type": "code",
   "execution_count": 2,
   "metadata": {
    "collapsed": true,
    "pycharm": {
     "is_executing": false
    }
   },
   "outputs": [],
   "source": [
    "import torch\n",
    "x = torch.arange(-3, 3, 0.5)"
   ]
  },
  {
   "cell_type": "code",
   "execution_count": 4,
   "outputs": [
    {
     "data": {
      "text/plain": "tensor([-3.0000, -2.5000, -2.0000, -1.5000, -1.0000, -0.5000,  0.0000,  0.5000,\n         1.0000,  1.5000,  2.0000,  2.5000])"
     },
     "metadata": {},
     "output_type": "execute_result",
     "execution_count": 4
    }
   ],
   "source": [
    "x\n",
    "\n"
   ],
   "metadata": {
    "collapsed": false,
    "pycharm": {
     "name": "#%%\n",
     "is_executing": false
    }
   }
  },
  {
   "cell_type": "code",
   "execution_count": 5,
   "outputs": [
    {
     "data": {
      "text/plain": "tensor([[-3.0000],\n        [-2.5000],\n        [-2.0000],\n        [-1.5000],\n        [-1.0000],\n        [-0.5000],\n        [ 0.0000],\n        [ 0.5000],\n        [ 1.0000],\n        [ 1.5000],\n        [ 2.0000],\n        [ 2.5000]])"
     },
     "metadata": {},
     "output_type": "execute_result",
     "execution_count": 5
    }
   ],
   "source": [
    "x.view(-1,1)"
   ],
   "metadata": {
    "collapsed": false,
    "pycharm": {
     "name": "#%%\n",
     "is_executing": false
    }
   }
  },
  {
   "cell_type": "code",
   "execution_count": 6,
   "outputs": [],
   "source": [
    "f = -3 * x\n",
    "\n"
   ],
   "metadata": {
    "collapsed": false,
    "pycharm": {
     "name": "#%%\n",
     "is_executing": false
    }
   }
  },
  {
   "cell_type": "code",
   "execution_count": 7,
   "outputs": [],
   "source": [
    "y = f + 0.1 * torch.rand(x.size())\n"
   ],
   "metadata": {
    "collapsed": false,
    "pycharm": {
     "name": "#%%\n",
     "is_executing": false
    }
   }
  },
  {
   "cell_type": "code",
   "execution_count": 11,
   "outputs": [
    {
     "data": {
      "text/plain": "tensor([[0., 0.],\n        [0., 0.],\n        [0., 0.],\n        [0., 0.],\n        [0., 0.],\n        [0., 0.],\n        [0., 0.],\n        [0., 0.],\n        [0., 0.],\n        [0., 0.],\n        [0., 0.],\n        [0., 0.],\n        [0., 0.],\n        [0., 0.],\n        [0., 0.],\n        [0., 0.],\n        [0., 0.],\n        [0., 0.],\n        [0., 0.],\n        [0., 0.]])"
     },
     "metadata": {},
     "output_type": "execute_result",
     "execution_count": 11
    }
   ],
   "source": [
    "x = torch.zeros(20,2)\n",
    "x"
   ],
   "metadata": {
    "collapsed": false,
    "pycharm": {
     "name": "#%%\n",
     "is_executing": false
    }
   }
  },
  {
   "cell_type": "code",
   "execution_count": 12,
   "outputs": [
    {
     "data": {
      "text/plain": "tensor([[-1.0000,  0.0000],\n        [-0.9000,  0.0000],\n        [-0.8000,  0.0000],\n        [-0.7000,  0.0000],\n        [-0.6000,  0.0000],\n        [-0.5000,  0.0000],\n        [-0.4000,  0.0000],\n        [-0.3000,  0.0000],\n        [-0.2000,  0.0000],\n        [-0.1000,  0.0000],\n        [ 0.0000,  0.0000],\n        [ 0.1000,  0.0000],\n        [ 0.2000,  0.0000],\n        [ 0.3000,  0.0000],\n        [ 0.4000,  0.0000],\n        [ 0.5000,  0.0000],\n        [ 0.6000,  0.0000],\n        [ 0.7000,  0.0000],\n        [ 0.8000,  0.0000],\n        [ 0.9000,  0.0000]])"
     },
     "metadata": {},
     "output_type": "execute_result",
     "execution_count": 12
    }
   ],
   "source": [
    "x[:,0] = torch.arange(-1, 1, 0.1)\n",
    "x"
   ],
   "metadata": {
    "collapsed": false,
    "pycharm": {
     "name": "#%%\n",
     "is_executing": false
    }
   }
  },
  {
   "cell_type": "code",
   "execution_count": 13,
   "outputs": [
    {
     "data": {
      "text/plain": "tensor([[-1.0000, -1.0000],\n        [-0.9000, -0.9000],\n        [-0.8000, -0.8000],\n        [-0.7000, -0.7000],\n        [-0.6000, -0.6000],\n        [-0.5000, -0.5000],\n        [-0.4000, -0.4000],\n        [-0.3000, -0.3000],\n        [-0.2000, -0.2000],\n        [-0.1000, -0.1000],\n        [ 0.0000,  0.0000],\n        [ 0.1000,  0.1000],\n        [ 0.2000,  0.2000],\n        [ 0.3000,  0.3000],\n        [ 0.4000,  0.4000],\n        [ 0.5000,  0.5000],\n        [ 0.6000,  0.6000],\n        [ 0.7000,  0.7000],\n        [ 0.8000,  0.8000],\n        [ 0.9000,  0.9000]])"
     },
     "metadata": {},
     "output_type": "execute_result",
     "execution_count": 13
    }
   ],
   "source": [
    "x[:,1] = torch.arange(-1, 1, 0.1)\n",
    "x\n"
   ],
   "metadata": {
    "collapsed": false,
    "pycharm": {
     "name": "#%%\n",
     "is_executing": false
    }
   }
  },
  {
   "cell_type": "code",
   "execution_count": 15,
   "outputs": [
    {
     "data": {
      "text/plain": "tensor([[1.],\n        [1.]])"
     },
     "metadata": {},
     "output_type": "execute_result",
     "execution_count": 15
    }
   ],
   "source": [
    "w = torch.tensor([[1.0], [1.0]])\n",
    "w"
   ],
   "metadata": {
    "collapsed": false,
    "pycharm": {
     "name": "#%%\n",
     "is_executing": false
    }
   }
  },
  {
   "cell_type": "code",
   "execution_count": 16,
   "outputs": [],
   "source": [
    "b =1"
   ],
   "metadata": {
    "collapsed": false,
    "pycharm": {
     "name": "#%%\n",
     "is_executing": false
    }
   }
  },
  {
   "cell_type": "code",
   "execution_count": 18,
   "outputs": [
    {
     "data": {
      "text/plain": "tensor([[-1.0000],\n        [-0.8000],\n        [-0.6000],\n        [-0.4000],\n        [-0.2000],\n        [ 0.0000],\n        [ 0.2000],\n        [ 0.4000],\n        [ 0.6000],\n        [ 0.8000],\n        [ 1.0000],\n        [ 1.2000],\n        [ 1.4000],\n        [ 1.6000],\n        [ 1.8000],\n        [ 2.0000],\n        [ 2.2000],\n        [ 2.4000],\n        [ 2.6000],\n        [ 2.8000]])"
     },
     "metadata": {},
     "output_type": "execute_result",
     "execution_count": 18
    }
   ],
   "source": [
    "f = torch.mm(x, w)+b\n",
    "f"
   ],
   "metadata": {
    "collapsed": false,
    "pycharm": {
     "name": "#%%\n",
     "is_executing": false
    }
   }
  },
  {
   "cell_type": "code",
   "execution_count": 20,
   "outputs": [
    {
     "data": {
      "text/plain": "2"
     },
     "metadata": {},
     "output_type": "execute_result",
     "execution_count": 20
    }
   ],
   "source": [],
   "metadata": {
    "collapsed": false,
    "pycharm": {
     "name": "#%%\n",
     "is_executing": false
    }
   }
  },
  {
   "cell_type": "code",
   "execution_count": 22,
   "outputs": [
    {
     "data": {
      "text/plain": "tensor([[-1.6978],\n        [ 0.6629],\n        [ 0.0533],\n        [-0.1241],\n        [-0.9001],\n        [ 0.8516],\n        [ 0.8039],\n        [-0.9310],\n        [-0.6070],\n        [-0.8744],\n        [-0.6867],\n        [ 0.0243],\n        [-2.4072],\n        [-0.4559],\n        [ 0.4678],\n        [-0.1551],\n        [-0.4820],\n        [-1.0417],\n        [-0.2294],\n        [-1.9667]])"
     },
     "metadata": {},
     "output_type": "execute_result",
     "execution_count": 22
    }
   ],
   "source": [
    "noise = torch.randn((x.shape[0] , 1))\n",
    "noise"
   ],
   "metadata": {
    "collapsed": false,
    "pycharm": {
     "name": "#%%\n",
     "is_executing": false
    }
   }
  },
  {
   "cell_type": "code",
   "execution_count": 24,
   "outputs": [
    {
     "data": {
      "text/plain": "tensor([[-1.1698],\n        [-0.7337],\n        [-0.5947],\n        [-0.4124],\n        [-0.2900],\n        [ 0.0852],\n        [ 0.2804],\n        [ 0.3069],\n        [ 0.5393],\n        [ 0.7126],\n        [ 0.9313],\n        [ 1.2024],\n        [ 1.1593],\n        [ 1.5544],\n        [ 1.8468],\n        [ 1.9845],\n        [ 2.1518],\n        [ 2.2958],\n        [ 2.5771],\n        [ 2.6033]])"
     },
     "metadata": {},
     "output_type": "execute_result",
     "execution_count": 24
    }
   ],
   "source": [
    "y = f + 0.1*noise\n",
    "y"
   ],
   "metadata": {
    "collapsed": false,
    "pycharm": {
     "name": "#%%\n",
     "is_executing": false
    }
   }
  },
  {
   "cell_type": "code",
   "execution_count": null,
   "outputs": [],
   "source": [
    "\n"
   ],
   "metadata": {
    "collapsed": false,
    "pycharm": {
     "name": "#%%\n"
    }
   }
  }
 ],
 "metadata": {
  "kernelspec": {
   "display_name": "Python 3",
   "language": "python",
   "name": "python3"
  },
  "language_info": {
   "codemirror_mode": {
    "name": "ipython",
    "version": 2
   },
   "file_extension": ".py",
   "mimetype": "text/x-python",
   "name": "python",
   "nbconvert_exporter": "python",
   "pygments_lexer": "ipython2",
   "version": "2.7.6"
  },
  "pycharm": {
   "stem_cell": {
    "cell_type": "raw",
    "source": [],
    "metadata": {
     "collapsed": false
    }
   }
  }
 },
 "nbformat": 4,
 "nbformat_minor": 0
}